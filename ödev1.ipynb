{
 "cells": [
  {
   "cell_type": "markdown",
   "metadata": {},
   "source": [
    "Ödev-1: Kullanıcıdan maaş bilgisini istenir ve bu bilgiye göre maaşından ne kadar vergi kesileceğini hesaplanır. Kullanıcının geliri;\n",
    "\n",
    "\n",
    " 10000 ve altındaysa maaşından %5 kesinti olur. \n",
    " 25000 ve altındaysa maaşından %10 kesinti olur. \n",
    " 45000 ve altındaysa maaşından %25 kesinti olur. \n",
    " Diğer koşullarda %30 kesinti olur. "
   ]
  },
  {
   "cell_type": "code",
   "execution_count": 3,
   "metadata": {},
   "outputs": [
    {
     "name": "stdout",
     "output_type": "stream",
     "text": [
      "Kesilecek olan vergi  11250.0\n"
     ]
    }
   ],
   "source": [
    "maas=int(input(\"Maaşınızı giriniz?\"))\n",
    "if maas<=10000:\n",
    "    kesinti=maas*0.05\n",
    "elif maas<=25000:\n",
    "    kesinti=maas*0.1\n",
    "elif maas<=45000:\n",
    "    kesinti=maas*0.25\n",
    "else:\n",
    "    kesinti=maas*0.3\n",
    "\n",
    "print(\"Kesilecek olan vergi sonucu alınacak olan maaş \",maas-kesinti)    "
   ]
  },
  {
   "cell_type": "markdown",
   "metadata": {},
   "source": [
    "Ödev-2: Kullanıcıdan kullanıcı adı ve şifre oluşturmasını istenir. Şifrenin uzunluğu altı haneye ulaşmışsa hesabınız oluşturuldu mesajı alınır, altı haneden azsa altı haneli şifre oluşturması gerektiğinin mesajı alınır. (Sadece koşul kullanılması yeterli.)"
   ]
  },
  {
   "cell_type": "code",
   "execution_count": 11,
   "metadata": {},
   "outputs": [
    {
     "name": "stdout",
     "output_type": "stream",
     "text": [
      "Lütfen 6 haneli bir şifre oluşturunuz\n"
     ]
    }
   ],
   "source": [
    "kullanici_adi=input(\"Kullanıcı adınızı giriniz: \")\n",
    "sifre= input(\"6 haneli şifrenizi oluşturun: \")\n",
    "if len(sifre)==6:\n",
    "    print(\"Şifreniz oluşturuldu.\")\n",
    "elif len(sifre)<6:\n",
    "    print(\"Lütfen 6 haneli bir şifre oluşturunuz\")"
   ]
  },
  {
   "cell_type": "markdown",
   "metadata": {},
   "source": [
    "Ödev-3: Bir önceki örnek geliştirilir.\n",
    "\n",
    "\n",
    " Kullanıcı girdiği şifre 5 ve 10 hane arasında olmak zorunda. \n",
    " Eğer bu koşula uyuyorsa \"Hesabınız oluşturuldu.\" mesajı alır. \n",
    " Koşulu sağlamıyorsa \"Lütfen girdiniz şifre 5 haneden az 10 haneden fazla olmasın!\" uyarısı alır. \n",
    " Bunu oluştururken kullanıcı istediğimiz şartlarda şifre oluşturana kadar sormaya devam eder "
   ]
  },
  {
   "cell_type": "code",
   "execution_count": 15,
   "metadata": {},
   "outputs": [
    {
     "name": "stdout",
     "output_type": "stream",
     "text": [
      "Lütfen girdiniz şifre 5 haneden az 10 haneden fazla olmasın!\n",
      "Lütfen girdiniz şifre 5 haneden az 10 haneden fazla olmasın!\n",
      "Hesabınız oluşturuldu.\n"
     ]
    }
   ],
   "source": [
    "while True:\n",
    "    sifre= input(\"5-10 haneli şifrenizi oluşturun: \")\n",
    "    if 5 <=len(sifre)<=10:\n",
    "        print(\"Hesabınız oluşturuldu.\")\n",
    "        break\n",
    "    else:\n",
    "        print(\"Lütfen girdiniz şifre 5 haneden az 10 haneden fazla olmasın!\")"
   ]
  },
  {
   "cell_type": "markdown",
   "metadata": {},
   "source": [
    "Ödev-4: Kullanıcıdan isim ve şifre isteyeceğiz ve şifre girişi için üç hak verilir.\n",
    "\n",
    "\n",
    " Eğer önceden tanımlı şifre ile kullanıcıdan gelen şifre aynıysa \"Giriş yapıldı.\" yazar. \n",
    " Şifre girişi yanlışsa \"Yanlış şifre girildi!\" uyarısı verilsin ve üç yanlış denemede program biter. \n",
    " Tercihe göre kalan hak bilgisi verilir. "
   ]
  },
  {
   "cell_type": "code",
   "execution_count": 18,
   "metadata": {},
   "outputs": [
    {
     "name": "stdout",
     "output_type": "stream",
     "text": [
      "Yanlış şifre girildi!\n",
      "Kalan giriş haakınız: 2\n",
      "Yanlış şifre girildi!\n",
      "Kalan giriş haakınız: 1\n",
      "Yanlış şifre girildi!\n",
      "Kalan giriş haakınız: 0\n"
     ]
    }
   ],
   "source": [
    "sifre=\"9456\"\n",
    "isim=input(\"İsminizi giriniz: \")\n",
    "a=3\n",
    "while a>0:\n",
    "    kontrol=input(\"Şirenizi giriniz: \")\n",
    "    if sifre==kontrol:\n",
    "        print(\"Giriş yapıldı.\")\n",
    "        break\n",
    "    else:\n",
    "        print(\"Yanlış şifre girildi!\")\n",
    "        a-=1\n",
    "        print(\"Kalan giriş haakınız:\", a)\n",
    "\n"
   ]
  }
 ],
 "metadata": {
  "kernelspec": {
   "display_name": "Python 3",
   "language": "python",
   "name": "python3"
  },
  "language_info": {
   "codemirror_mode": {
    "name": "ipython",
    "version": 3
   },
   "file_extension": ".py",
   "mimetype": "text/x-python",
   "name": "python",
   "nbconvert_exporter": "python",
   "pygments_lexer": "ipython3",
   "version": "3.12.1"
  }
 },
 "nbformat": 4,
 "nbformat_minor": 2
}
